{
 "cells": [
  {
   "cell_type": "code",
   "execution_count": 9,
   "metadata": {},
   "outputs": [],
   "source": [
    "class Laptops:\n",
    "    def __init__(self, manufacturer, model_name, screen_size, ram, operating_system, weight, price):\n",
    "        self.manufacturer = manufacturer\n",
    "        self.model_name = model_name\n",
    "        self.screen_size = screen_size\n",
    "        self.ram = ram\n",
    "        self.operating_system = operating_system\n",
    "        self.weight = weight\n",
    "        self.price = price\n",
    "        \n",
    "        \n",
    "        def manufacturer(self):\n",
    "            return self.manufacturer\n",
    "        \n",
    "        def model_name(self):\n",
    "            return self.model_name\n",
    "        \n",
    "        def screen_size(self):\n",
    "            return self.screen_size\n",
    "        \n",
    "        def ram(self):\n",
    "            return self.ram\n",
    "        \n",
    "        def operating_system(self):\n",
    "            return self.operating_system\n",
    "        \n",
    "        def weight(self):\n",
    "            return self.weight\n",
    "        \n",
    "\n",
    "        def price(self):\n",
    "            return self.price\n",
    "        \n",
    "        "
   ]
  },
  {
   "cell_type": "code",
   "execution_count": 23,
   "metadata": {},
   "outputs": [],
   "source": [
    "import csv\n",
    "\n",
    "def laptops():\n",
    "    with open(r'C:\\Users\\karin\\OneDrive\\Рабочий стол\\laptops.csv') as f:\n",
    "        reader = csv.reader(f)\n",
    "\n",
    "        for i, row in enumerate(reader):\n",
    "            if i == 0:\n",
    "                continue\n",
    "                \n",
    "            yield Laptops(\n",
    "                row[0],\n",
    "                row[1],\n",
    "                float(row[3][:-1]),\n",
    "                row[6],\n",
    "                row[-4],\n",
    "                row[-2],\n",
    "                float(row[-1].replace(',', '.')),\n",
    "            )"
   ]
  },
  {
   "cell_type": "code",
   "execution_count": 24,
   "metadata": {},
   "outputs": [
    {
     "name": "stdout",
     "output_type": "stream",
     "text": [
      "{'macOS': 13, 'No OS': 66, 'Windows': 1124, 'Mac OS': 8, 'Linux': 62, 'Android': 2, 'Chrome OS': 27}\n"
     ]
    }
   ],
   "source": [
    "#3.բոլոր օպերացիոն համակարգերը և իրենց մոդելների քանակը(օրինակ՝ windows: 456, macOS:46, Linux: 876...)\n",
    "result = {}\n",
    "for laptop in laptops():\n",
    "    result[laptop.operating_system] = result.get(laptop.operating_system, 0) + 1\n",
    "\n",
    "print(result)"
   ]
  },
  {
   "cell_type": "code",
   "execution_count": 25,
   "metadata": {},
   "outputs": [
    {
     "name": "stdout",
     "output_type": "stream",
     "text": [
      "{'8GB': 618, '16GB': 200, '4GB': 375, '2GB': 22, '12GB': 25, '6GB': 41, '32GB': 17, '24GB': 3, '64GB': 1}\n"
     ]
    }
   ],
   "source": [
    "# 6.բոլոր չափի RAM-երը և իրենց մոդելների քանակը(օրինակ՝ 4GB: 456, 8GB:46, 10GB: 876...)\n",
    "result = {}\n",
    "for laptop in laptops():\n",
    "    result[laptop.ram] = result.get(laptop.ram, 0) + 1\n",
    "\n",
    "print(result)"
   ]
  },
  {
   "cell_type": "code",
   "execution_count": 26,
   "metadata": {},
   "outputs": [
    {
     "name": "stdout",
     "output_type": "stream",
     "text": [
      "{13.3: 164, 15.6: 664, 15.4: 4, 14.0: 197, 12.0: 6, 11.6: 33, 17.3: 164, 10.1: 4, 13.5: 6, 12.5: 39, 13.0: 2, 18.4: 1, 13.9: 6, 12.3: 5, 17.0: 1, 15.0: 4, 14.1: 1, 11.3: 1}\n"
     ]
    }
   ],
   "source": [
    "result = {}\n",
    "for laptop in laptops():\n",
    "    result[laptop.screen_size] = result.get(laptop.screen_size, 0) + 1\n",
    "\n",
    "print(result)"
   ]
  },
  {
   "cell_type": "code",
   "execution_count": 27,
   "metadata": {},
   "outputs": [
    {
     "name": "stdout",
     "output_type": "stream",
     "text": [
      "{'13\" - 15\"': 376, '15\" and large': 838, '10\" - 13\"': 88}\n"
     ]
    }
   ],
   "source": [
    "#7.էկրանի չափսերը և իրենց մոդելների քանակը։ էկրանի չափսերը խմբավորել հետևյալ կերպ։ մինչև 10”, 10”-13”, 13”-15” և 15” կամ ավելի մեծ\n",
    "result = {}\n",
    "for laptop in laptops():\n",
    "    laptop.screen_size = int(str(laptop.screen_size * 10)[:-3])\n",
    "    if laptop.screen_size < 10:\n",
    "        result['small 10\"'] = result.get('small 10\"', 0) + 1\n",
    "    elif 10 <= laptop.screen_size < 13:\n",
    "        result['10\" - 13\"'] = result.get('10\" - 13\"', 0) + 1\n",
    "    elif 13 <= laptop.screen_size < 15:\n",
    "        result['13\" - 15\"'] = result.get('13\" - 15\"', 0) + 1\n",
    "    elif laptop.screen_size >= 15:\n",
    "        result['15\" and large'] = result.get('15\" and large', 0) + 1\n",
    "    else:\n",
    "        result[laptop.screen_size] = result.get(laptop.screen_size, 0) + 1               \n",
    "\n",
    "print(result)"
   ]
  },
  {
   "cell_type": "code",
   "execution_count": 28,
   "metadata": {},
   "outputs": [
    {
     "name": "stdout",
     "output_type": "stream",
     "text": [
      "{'Apple': 21, 'HP': 274, 'Acer': 103, 'Asus': 157, 'Dell': 297, 'Lenovo': 297, 'Chuwi': 3, 'MSI': 54, 'Microsoft': 6, 'Toshiba': 48, 'Huawei': 2, 'Xiaomi': 4, 'Vero': 4, 'Razer': 7, 'Mediacom': 7, 'Samsung': 9, 'Google': 3, 'Fujitsu': 3, 'LG': 3}\n"
     ]
    }
   ],
   "source": [
    "#8.բոլոր brand-երը և իրենց մոդելների քանակը(օրինակ՝ apple: 11, Dell:80...)\n",
    "result = {}\n",
    "for laptop in laptops():\n",
    "    result[laptop.manufacturer] = result.get(laptop.manufacturer, 0) + 1\n",
    "\n",
    "print(result)"
   ]
  },
  {
   "cell_type": "code",
   "execution_count": 29,
   "metadata": {},
   "outputs": [
    {
     "name": "stdout",
     "output_type": "stream",
     "text": [
      "6099.0\n"
     ]
    }
   ],
   "source": [
    "highest_price = None\n",
    "\n",
    "for laptop in laptops():\n",
    "\n",
    "    if highest_price:\n",
    "        if laptop.price > highest_price.price:\n",
    "            highest_price = laptop\n",
    "    else:\n",
    "        highest_price = laptop\n",
    "\n",
    "print(highest_price.price)\n",
    "             "
   ]
  },
  {
   "cell_type": "code",
   "execution_count": 30,
   "metadata": {},
   "outputs": [],
   "source": [
    "#1.5 ամենաթանկ laptop-ները f’{brand} {model} {price}’ այս ֆորմատով\n",
    "#2.5 ամենամատչելի laptop-ները f’{brand} {model} {price}’ այս ֆորմատով\n",
    "\n",
    "def highest_price(n, highest_price=True):\n",
    "    for laptop in laptops():\n",
    "        if highest_price:\n",
    "            if laptop.price > highest_price.price:\n",
    "                highest_price = laptop\n",
    "                for i in range(n - 1):\n",
    "                    if highest_price.price[i] > highest_price.price[i + 1]:\n",
    "                        highest_price.price[i], highest_price.price[i + 1] = highest_price.price[i + 1], highest_price.price[i]\n",
    "\n",
    "\n",
    "        else:\n",
    "            if laptop.price < highest_price.price:\n",
    "                highest_price = laptop\n",
    "                for i in range(n - 1):\n",
    "                    if highest_price.price[i] < highest_price.price[i + 1]:\n",
    "                        highest_price.price[i], highest_price.price[i + 1] = highest_price.price[i + 1], highest_price.price[i]\n",
    "\n",
    "        return highest_price.price\n",
    "\n"
   ]
  },
  {
   "cell_type": "code",
   "execution_count": null,
   "metadata": {},
   "outputs": [],
   "source": []
  }
 ],
 "metadata": {
  "kernelspec": {
   "display_name": "Python 3",
   "language": "python",
   "name": "python3"
  },
  "language_info": {
   "codemirror_mode": {
    "name": "ipython",
    "version": 3
   },
   "file_extension": ".py",
   "mimetype": "text/x-python",
   "name": "python",
   "nbconvert_exporter": "python",
   "pygments_lexer": "ipython3",
   "version": "3.8.6"
  }
 },
 "nbformat": 4,
 "nbformat_minor": 4
}
